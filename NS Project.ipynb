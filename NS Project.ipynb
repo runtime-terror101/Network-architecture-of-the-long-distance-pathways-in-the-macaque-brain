{
 "cells": [
  {
   "cell_type": "code",
   "execution_count": 1,
   "metadata": {},
   "outputs": [],
   "source": [
    "import networkx as nx\n",
    "import operator\n",
    "from collections import Counter\n",
    "import numpy as np\n",
    "import matplotlib.pyplot as plt"
   ]
  },
  {
   "cell_type": "code",
   "execution_count": 2,
   "metadata": {},
   "outputs": [],
   "source": [
    "g = nx.DiGraph()\n",
    "g1 = nx.DiGraph()\n",
    "node_label = {}"
   ]
  },
  {
   "cell_type": "code",
   "execution_count": 3,
   "metadata": {},
   "outputs": [],
   "source": [
    "f = open(\"NameList.txt\") \n",
    "line = f.readline()\n",
    "while line:\n",
    "    n1, n2 = line.split()\n",
    "    node_label[int(n1)] = n2\n",
    "    line = f.readline()\n",
    "f.close()\n",
    "# print(node_label)"
   ]
  },
  {
   "cell_type": "code",
   "execution_count": 4,
   "metadata": {},
   "outputs": [],
   "source": [
    "f = open(\"EdgeList.txt\") \n",
    "line = f.readline()\n",
    "while line:\n",
    "    n1, n2 = map(int, line.split())\n",
    "    g.add_edge(node_label[n1], node_label[n2])\n",
    "    g1.add_edge(node_label[n2], node_label[n1])\n",
    "    line = f.readline()\n",
    "f.close()\n",
    "# print(len(g.edges))\n",
    "# print(g.edges)"
   ]
  },
  {
   "cell_type": "code",
   "execution_count": 5,
   "metadata": {},
   "outputs": [
    {
     "name": "stdout",
     "output_type": "stream",
     "text": [
      "('32', 105) ('46', 102) ('12o', 99) ('12l', 91) ('11', 90) ('24', 83) ('F7', 75) ('14', 75) ('8A', 71) ('LIP', 68) ('13a', 65) ('MD', 65) ('13', 63) ('F2', 63) ('PIT', 62)\n"
     ]
    }
   ],
   "source": [
    "# in degree ranks\n",
    "x = (list(g.in_degree(g.nodes)))\n",
    "x.sort(key=lambda x: x[1], reverse=True)\n",
    "print(* x[:15])"
   ]
  },
  {
   "cell_type": "code",
   "execution_count": 6,
   "metadata": {},
   "outputs": [
    {
     "name": "stdout",
     "output_type": "stream",
     "text": [
      "('46', 109) ('24', 93) ('TF', 74) ('9', 69) ('13', 66) ('13a', 65) ('TH', 61) ('TE', 61) ('LIP', 60) ('PGm', 57) ('V2', 55) ('32', 54) ('L#2', 53) ('36', 51) ('PIT', 50)\n"
     ]
    }
   ],
   "source": [
    "# out degree ranks\n",
    "x = (list(g.out_degree(g.nodes)))\n",
    "x.sort(key=lambda x: x[1], reverse=True)\n",
    "print(* x[:15])"
   ]
  },
  {
   "cell_type": "code",
   "execution_count": 7,
   "metadata": {},
   "outputs": [
    {
     "name": "stdout",
     "output_type": "stream",
     "text": [
      "('46', 0.015204683627532618) ('24', 0.012043365179723658) ('9', 0.011199623290855698) ('TF', 0.010524136819908747) ('TE', 0.00994074274650209) ('TH', 0.009366945303796165) ('13', 0.009267523639687797) ('32', 0.009190899674239212) ('12', 0.008821951764963759) ('23', 0.00871384241866026) ('45', 0.008643582251765309) ('PM#3', 0.008642719679837851) ('10', 0.008576842831566728) ('13a', 0.008421112301364166) ('Idg', 0.008034420981898889) "
     ]
    }
   ],
   "source": [
    "x = nx.hits(g)\n",
    "hubs = dict(x[0])\n",
    "hubs = dict(sorted(hubs.items(), key=operator.itemgetter(1), reverse=True))\n",
    "for i in list(hubs.items())[:15]:\n",
    "    print(i, end=\" \")"
   ]
  },
  {
   "cell_type": "code",
   "execution_count": 8,
   "metadata": {},
   "outputs": [
    {
     "name": "stdout",
     "output_type": "stream",
     "text": [
      "('32', 0.015831704244758073) ('12o', 0.015600917654495632) ('46', 0.01532500434215252) ('12l', 0.014552905754659786) ('11', 0.01449648278323243) ('24', 0.013686358059245793) ('14', 0.011681841635970788) ('F7', 0.010758218113501593) ('MD', 0.010548633152332784) ('9', 0.00979042829769803) ('8A', 0.009568966632889978) ('8B', 0.0095424957674249) ('LIP', 0.009485890731054807) ('10', 0.009478458180326724) ('23c', 0.009467843328700268) "
     ]
    }
   ],
   "source": [
    "authorities = dict(x[1])\n",
    "authorities = dict(sorted(authorities.items(), key=operator.itemgetter(1), reverse=True))\n",
    "for i in list(authorities.items())[:15]:\n",
    "    print(i, end=\" \")"
   ]
  },
  {
   "cell_type": "code",
   "execution_count": 9,
   "metadata": {},
   "outputs": [
    {
     "name": "stdout",
     "output_type": "stream",
     "text": [
      "('24', 0.08784097100981372) ('46', 0.08443409805406714) ('LIP', 0.04653389124898251) ('13a', 0.044443125077972434) ('MD', 0.04014159818290519) ('32', 0.03842292075067489) ('PIT', 0.034008547967126254) ('TF', 0.033996682900884666) ('13', 0.031533444477577215) ('PS', 0.03063231393974855) ('V2', 0.029902918018483927) ('TE', 0.025157721327871835) ('PGm', 0.022881361615237242) ('7b', 0.022855063273476504) ('9', 0.02221030457789365) "
     ]
    }
   ],
   "source": [
    "betweenness_centrality = nx.betweenness_centrality(g)\n",
    "betweenness_centrality = dict(sorted(betweenness_centrality.items(), key=operator.itemgetter(1), reverse=True))\n",
    "for i in list(betweenness_centrality.items())[:15]:\n",
    "    print(i, end=\" \")"
   ]
  },
  {
   "cell_type": "code",
   "execution_count": 10,
   "metadata": {},
   "outputs": [
    {
     "name": "stdout",
     "output_type": "stream",
     "text": [
      "('32', 0.01563918209038171) ('MD', 0.014171269432721614) ('36r', 0.012625856703811387) ('46', 0.012609599386608022) ('PIT', 0.011774417716507331) ('12o', 0.011771604226761314) ('24', 0.011612532850469377) ('23c', 0.010749563858063037) ('12l', 0.010633961976959955) ('11', 0.01052850829640844) ('14', 0.01036563047377749) ('13a', 0.010136295077933063) ('8A', 0.008876843387264051) ('F7', 0.008561698295332718) ('8B', 0.008520880431601258) "
     ]
    }
   ],
   "source": [
    "pagerank = nx.pagerank(g)\n",
    "pagerank = dict(sorted(pagerank.items(), key=operator.itemgetter(1), reverse=True))\n",
    "for i in list(pagerank.items())[:15]:\n",
    "    print(i, end=\" \")"
   ]
  },
  {
   "cell_type": "code",
   "execution_count": 11,
   "metadata": {},
   "outputs": [
    {
     "name": "stdout",
     "output_type": "stream",
     "text": [
      "('46', 0.5431154917505893) ('12o', 0.5348864691483076) ('32', 0.5324661683829306) ('11', 0.5324661683829306) ('24', 0.526117838506532) ('12l', 0.5245543382435112) ('MD', 0.5064922089496169) ('8A', 0.5007447796282029) ('Cd', 0.4944444875505311) ('23c', 0.4923641138603668) ('8B', 0.49099453357146455) ('F7', 0.4889543900801704) ('LIP', 0.4876036873451423) ('9', 0.4855915675899354) ('6M', 0.4855915675899354) "
     ]
    }
   ],
   "source": [
    "# in closeness centrality\n",
    "closeness_centrality_in = nx.closeness_centrality(g)\n",
    "closeness_centrality_in = dict(sorted(closeness_centrality_in.items(), key=operator.itemgetter(1), reverse=True))\n",
    "for i in list(closeness_centrality_in.items())[:15]:\n",
    "    print(i, end=\" \")"
   ]
  },
  {
   "cell_type": "code",
   "execution_count": 12,
   "metadata": {},
   "outputs": [
    {
     "name": "stdout",
     "output_type": "stream",
     "text": [
      "('46', 0.5474767800497351) ('24', 0.5307343708739022) ('TF', 0.5165182716540656) ('TE', 0.5045062188249012) ('9', 0.499424861225226) ('TH', 0.49585754078790295) ('LIP', 0.4909480601860425) ('PGm', 0.4881860457827455) ('45', 0.4861348439097088) ('23', 0.48477692535130174) ('PM#3', 0.48410080690590246) ('12', 0.4794202742424476) ('Idg', 0.4741807084037323) ('13', 0.47288866287674663) ('L#2', 0.47224527694085994) "
     ]
    }
   ],
   "source": [
    "# out closeness centrality\n",
    "closeness_centrality_out = nx.closeness_centrality(g1)\n",
    "closeness_centrality_out = dict(sorted(closeness_centrality_out.items(), key=operator.itemgetter(1), reverse=True))\n",
    "for i in list(closeness_centrality_out.items())[:15]:\n",
    "    print(i, end=\" \")"
   ]
  },
  {
   "cell_type": "code",
   "execution_count": 13,
   "metadata": {},
   "outputs": [],
   "source": [
    "# degree distribution\n",
    "degrees = [g.degree(n) for n in g.nodes()]\n",
    "degrees = Counter(degrees)\n",
    "degrees = dict(sorted(degrees.items()))\n",
    "no_of_nodes = sum(degrees.values())\n",
    "for key in degrees.keys():\n",
    "    degrees[key] /= no_of_nodes\n",
    "\n",
    "# print(degrees)"
   ]
  },
  {
   "cell_type": "code",
   "execution_count": 14,
   "metadata": {},
   "outputs": [],
   "source": [
    "cum_degree = {}\n",
    "temp = 1\n",
    "for key in degrees:\n",
    "    cum_degree[key] = temp\n",
    "    temp -= degrees[key]\n",
    "# print(cum_degree)"
   ]
  },
  {
   "cell_type": "code",
   "execution_count": 15,
   "metadata": {},
   "outputs": [
    {
     "data": {
      "image/png": "[encoded data removed]",
      "text/plain": [
       "<Figure size 432x288 with 1 Axes>"
      ]
     },
     "metadata": {
      "needs_background": "light"
     },
     "output_type": "display_data"
    }
   ],
   "source": [
    "\n",
    "plt.figure()\n",
    "plt.scatter(cum_degree.keys(), cum_degree.values(), color=\"red\", s=0.5)\n",
    "# m, b = np.polyfit(np.array(list(cum_degree.keys())), np.array(list(cum_degree.values())), 1)\n",
    "# plt.plot(m*list(cum_degree.keys()) + b, color=\"black\")\n",
    "plt.xscale(\"log\")\n",
    "plt.yscale(\"log\")\n",
    "plt.autoscale()\n",
    "plt.show()"
   ]
  },
  {
   "cell_type": "code",
   "execution_count": 16,
   "metadata": {},
   "outputs": [
    {
     "data": {
      "image/png": "[encoded data removed]",
      "text/plain": [
       "<Figure size 432x288 with 1 Axes>"
      ]
     },
     "metadata": {
      "needs_background": "light"
     },
     "output_type": "display_data"
    }
   ],
   "source": [
    "plt.figure()\n",
    "plt.scatter(cum_degree.keys(), cum_degree.values(), color=\"red\", s=0.5)\n",
    "plt.yscale(\"log\")\n",
    "plt.autoscale()\n",
    "plt.show()"
   ]
  },
  {
   "cell_type": "code",
   "execution_count": 17,
   "metadata": {},
   "outputs": [],
   "source": [
    "hierarchy = nx.DiGraph()"
   ]
  },
  {
   "cell_type": "code",
   "execution_count": 20,
   "metadata": {},
   "outputs": [],
   "source": [
    "f = open(\"Mapping.txt\") \n",
    "line = f.readline()\n",
    "while line:\n",
    "    parent, child = map(int, line.split())\n",
    "    hierarchy.add_edge(node_label[parent], node_label[child])\n",
    "    line = f.readline()\n",
    "f.close()"
   ]
  },
  {
   "cell_type": "code",
   "execution_count": 22,
   "metadata": {},
   "outputs": [
    {
     "name": "stdout",
     "output_type": "stream",
     "text": [
      "383\n",
      "382\n"
     ]
    }
   ],
   "source": [
    "print(len(hierarchy.nodes))\n",
    "print(len(hierarchy.edges))"
   ]
  },
  {
   "cell_type": "code",
   "execution_count": 33,
   "metadata": {},
   "outputs": [
    {
     "ename": "ImportError",
     "evalue": "requires pygraphviz http://pygraphviz.github.io/",
     "output_type": "error",
     "traceback": [
      "\u001b[1;31m---------------------------------------------------------------------------\u001b[0m",
      "\u001b[1;31mModuleNotFoundError\u001b[0m                       Traceback (most recent call last)",
      "\u001b[1;32mc:\\users\\juhi pandey\\appdata\\local\\programs\\python\\python37-32\\lib\\site-packages\\networkx\\drawing\\nx_agraph.py\u001b[0m in \u001b[0;36mpygraphviz_layout\u001b[1;34m(G, prog, root, args)\u001b[0m\n\u001b[0;32m    278\u001b[0m     \u001b[1;32mtry\u001b[0m\u001b[1;33m:\u001b[0m\u001b[1;33m\u001b[0m\u001b[1;33m\u001b[0m\u001b[0m\n\u001b[1;32m--> 279\u001b[1;33m         \u001b[1;32mimport\u001b[0m \u001b[0mpygraphviz\u001b[0m\u001b[1;33m\u001b[0m\u001b[1;33m\u001b[0m\u001b[0m\n\u001b[0m\u001b[0;32m    280\u001b[0m     \u001b[1;32mexcept\u001b[0m \u001b[0mImportError\u001b[0m \u001b[1;32mas\u001b[0m \u001b[0me\u001b[0m\u001b[1;33m:\u001b[0m\u001b[1;33m\u001b[0m\u001b[1;33m\u001b[0m\u001b[0m\n",
      "\u001b[1;31mModuleNotFoundError\u001b[0m: No module named 'pygraphviz'",
      "\nThe above exception was the direct cause of the following exception:\n",
      "\u001b[1;31mImportError\u001b[0m                               Traceback (most recent call last)",
      "\u001b[1;32m<ipython-input-33-fc02b4ac6559>\u001b[0m in \u001b[0;36m<module>\u001b[1;34m\u001b[0m\n\u001b[1;32m----> 1\u001b[1;33m \u001b[0mpos\u001b[0m \u001b[1;33m=\u001b[0m \u001b[0mnx\u001b[0m\u001b[1;33m.\u001b[0m\u001b[0mnx_agraph\u001b[0m\u001b[1;33m.\u001b[0m\u001b[0mgraphviz_layout\u001b[0m\u001b[1;33m(\u001b[0m\u001b[0mhierarchy\u001b[0m\u001b[1;33m)\u001b[0m\u001b[1;33m\u001b[0m\u001b[1;33m\u001b[0m\u001b[0m\n\u001b[0m\u001b[0;32m      2\u001b[0m \u001b[0mnx\u001b[0m\u001b[1;33m.\u001b[0m\u001b[0mdraw\u001b[0m\u001b[1;33m(\u001b[0m\u001b[0mhierarchy\u001b[0m\u001b[1;33m,\u001b[0m \u001b[0mpos\u001b[0m\u001b[1;33m=\u001b[0m\u001b[0mpos\u001b[0m\u001b[1;33m,\u001b[0m\u001b[0mnode_size\u001b[0m \u001b[1;33m=\u001b[0m \u001b[1;36m30\u001b[0m\u001b[1;33m)\u001b[0m\u001b[1;33m\u001b[0m\u001b[1;33m\u001b[0m\u001b[0m\n\u001b[0;32m      3\u001b[0m \u001b[0mplt\u001b[0m\u001b[1;33m.\u001b[0m\u001b[0mshow\u001b[0m\u001b[1;33m(\u001b[0m\u001b[1;33m)\u001b[0m\u001b[1;33m\u001b[0m\u001b[1;33m\u001b[0m\u001b[0m\n\u001b[0;32m      4\u001b[0m \u001b[0mplt\u001b[0m\u001b[1;33m.\u001b[0m\u001b[0mclf\u001b[0m\u001b[1;33m\u001b[0m\u001b[1;33m\u001b[0m\u001b[0m\n",
      "\u001b[1;32mc:\\users\\juhi pandey\\appdata\\local\\programs\\python\\python37-32\\lib\\site-packages\\networkx\\drawing\\nx_agraph.py\u001b[0m in \u001b[0;36mgraphviz_layout\u001b[1;34m(G, prog, root, args)\u001b[0m\n\u001b[0;32m    235\u001b[0m     \u001b[0mThis\u001b[0m \u001b[1;32mis\u001b[0m \u001b[0ma\u001b[0m \u001b[0mwrapper\u001b[0m \u001b[1;32mfor\u001b[0m \u001b[0mpygraphviz_layout\u001b[0m\u001b[1;33m.\u001b[0m\u001b[1;33m\u001b[0m\u001b[1;33m\u001b[0m\u001b[0m\n\u001b[0;32m    236\u001b[0m     \"\"\"\n\u001b[1;32m--> 237\u001b[1;33m     \u001b[1;32mreturn\u001b[0m \u001b[0mpygraphviz_layout\u001b[0m\u001b[1;33m(\u001b[0m\u001b[0mG\u001b[0m\u001b[1;33m,\u001b[0m \u001b[0mprog\u001b[0m\u001b[1;33m=\u001b[0m\u001b[0mprog\u001b[0m\u001b[1;33m,\u001b[0m \u001b[0mroot\u001b[0m\u001b[1;33m=\u001b[0m\u001b[0mroot\u001b[0m\u001b[1;33m,\u001b[0m \u001b[0margs\u001b[0m\u001b[1;33m=\u001b[0m\u001b[0margs\u001b[0m\u001b[1;33m)\u001b[0m\u001b[1;33m\u001b[0m\u001b[1;33m\u001b[0m\u001b[0m\n\u001b[0m\u001b[0;32m    238\u001b[0m \u001b[1;33m\u001b[0m\u001b[0m\n\u001b[0;32m    239\u001b[0m \u001b[1;33m\u001b[0m\u001b[0m\n",
      "\u001b[1;32mc:\\users\\juhi pandey\\appdata\\local\\programs\\python\\python37-32\\lib\\site-packages\\networkx\\drawing\\nx_agraph.py\u001b[0m in \u001b[0;36mpygraphviz_layout\u001b[1;34m(G, prog, root, args)\u001b[0m\n\u001b[0;32m    279\u001b[0m         \u001b[1;32mimport\u001b[0m \u001b[0mpygraphviz\u001b[0m\u001b[1;33m\u001b[0m\u001b[1;33m\u001b[0m\u001b[0m\n\u001b[0;32m    280\u001b[0m     \u001b[1;32mexcept\u001b[0m \u001b[0mImportError\u001b[0m \u001b[1;32mas\u001b[0m \u001b[0me\u001b[0m\u001b[1;33m:\u001b[0m\u001b[1;33m\u001b[0m\u001b[1;33m\u001b[0m\u001b[0m\n\u001b[1;32m--> 281\u001b[1;33m         \u001b[1;32mraise\u001b[0m \u001b[0mImportError\u001b[0m\u001b[1;33m(\u001b[0m\u001b[1;34m\"requires pygraphviz \"\u001b[0m \u001b[1;34m\"http://pygraphviz.github.io/\"\u001b[0m\u001b[1;33m)\u001b[0m \u001b[1;32mfrom\u001b[0m \u001b[0me\u001b[0m\u001b[1;33m\u001b[0m\u001b[1;33m\u001b[0m\u001b[0m\n\u001b[0m\u001b[0;32m    282\u001b[0m     \u001b[1;32mif\u001b[0m \u001b[0mroot\u001b[0m \u001b[1;32mis\u001b[0m \u001b[1;32mnot\u001b[0m \u001b[1;32mNone\u001b[0m\u001b[1;33m:\u001b[0m\u001b[1;33m\u001b[0m\u001b[1;33m\u001b[0m\u001b[0m\n\u001b[0;32m    283\u001b[0m         \u001b[0margs\u001b[0m \u001b[1;33m+=\u001b[0m \u001b[1;34mf\"-Groot={root}\"\u001b[0m\u001b[1;33m\u001b[0m\u001b[1;33m\u001b[0m\u001b[0m\n",
      "\u001b[1;31mImportError\u001b[0m: requires pygraphviz http://pygraphviz.github.io/"
     ]
    }
   ],
   "source": [
    "pos = nx.nx_agraph.graphviz_layout(hierarchy)\n",
    "nx.draw(hierarchy, pos=pos,node_size = 30)\n",
    "plt.show()\n",
    "plt.clf"
   ]
  },
  {
   "cell_type": "code",
   "execution_count": null,
   "metadata": {},
   "outputs": [],
   "source": []
  }
 ],
 "metadata": {
  "kernelspec": {
   "display_name": "Python 3",
   "language": "python",
   "name": "python3"
  },
  "language_info": {
   "codemirror_mode": {
    "name": "ipython",
    "version": 3
   },
   "file_extension": ".py",
   "mimetype": "text/x-python",
   "name": "python",
   "nbconvert_exporter": "python",
   "pygments_lexer": "ipython3",
   "version": "3.7.2"
  }
 },
 "nbformat": 4,
 "nbformat_minor": 4
}
